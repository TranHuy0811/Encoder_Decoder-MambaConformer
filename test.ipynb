{
 "cells": [
  {
   "cell_type": "code",
   "execution_count": 1,
   "metadata": {},
   "outputs": [
    {
     "name": "stderr",
     "output_type": "stream",
     "text": [
      "/home/huy08112004/.local/lib/python3.10/site-packages/mamba_ssm/ops/selective_scan_interface.py:164: FutureWarning: `torch.cuda.amp.custom_fwd(args...)` is deprecated. Please use `torch.amp.custom_fwd(args..., device_type='cuda')` instead.\n",
      "  def forward(ctx, xz, conv1d_weight, conv1d_bias, x_proj_weight, delta_proj_weight,\n",
      "/home/huy08112004/.local/lib/python3.10/site-packages/mamba_ssm/ops/selective_scan_interface.py:240: FutureWarning: `torch.cuda.amp.custom_bwd(args...)` is deprecated. Please use `torch.amp.custom_bwd(args..., device_type='cuda')` instead.\n",
      "  def backward(ctx, dout):\n",
      "/home/huy08112004/.local/lib/python3.10/site-packages/mamba_ssm/ops/triton/layernorm.py:508: FutureWarning: `torch.cuda.amp.custom_fwd(args...)` is deprecated. Please use `torch.amp.custom_fwd(args..., device_type='cuda')` instead.\n",
      "  def forward(\n",
      "/home/huy08112004/.local/lib/python3.10/site-packages/mamba_ssm/ops/triton/layernorm.py:567: FutureWarning: `torch.cuda.amp.custom_bwd(args...)` is deprecated. Please use `torch.amp.custom_bwd(args..., device_type='cuda')` instead.\n",
      "  def backward(ctx, dout, *args):\n",
      "/home/huy08112004/.local/lib/python3.10/site-packages/tqdm/auto.py:21: TqdmWarning: IProgress not found. Please update jupyter and ipywidgets. See https://ipywidgets.readthedocs.io/en/stable/user_install.html\n",
      "  from .autonotebook import tqdm as notebook_tqdm\n"
     ]
    }
   ],
   "source": [
    "from model.model import MambaConformer"
   ]
  },
  {
   "cell_type": "code",
   "execution_count": 2,
   "metadata": {},
   "outputs": [],
   "source": [
    "args = {\n",
    "    \"sample_rate\": 16000,\n",
    "    \"nfft\": 512,\n",
    "    \"window_length\": 400,\n",
    "    \"hop_length\": 160,\n",
    "    \"n_mels\": 80,\n",
    "    \"mel_scale\": 'htk',\n",
    "    \"num_freq_masks\": 2, \n",
    "    \"freq_mask_range\": [0, 5], \n",
    "    \"freq_mask_ratio_range\": None, \n",
    "    \"num_time_masks\": 2, \n",
    "    \"time_mask_range\": None, \n",
    "    \"time_mask_ratio_range\": [0, 0.05], \n",
    "    \"encoder_dim\": 512, \n",
    "    \"enc_num_blocks\": 12, \n",
    "    \"ff_expand\": 4, \n",
    "    \"mamba_expand\": 2, \n",
    "    \"d_state\": 16, \n",
    "    \"d_conv\": 4, \n",
    "    \"conv_expand\": 2, \n",
    "    \"depth_ks\": 31, \n",
    "    'vocab_size': 110,\n",
    "    'padding_idx': 0,\n",
    "    'bos_idx': 1,\n",
    "    'eos_idx': 2\n",
    "}"
   ]
  },
  {
   "cell_type": "code",
   "execution_count": 3,
   "metadata": {},
   "outputs": [],
   "source": [
    "model = MambaConformer(**args).to('cuda')"
   ]
  },
  {
   "cell_type": "code",
   "execution_count": 4,
   "metadata": {},
   "outputs": [
    {
     "name": "stdout",
     "output_type": "stream",
     "text": [
      "114473984\n"
     ]
    }
   ],
   "source": [
    "numparams = sum([i.numel() for i in model.parameters()])\n",
    "print(numparams)"
   ]
  }
 ],
 "metadata": {
  "kernelspec": {
   "display_name": "Python 3",
   "language": "python",
   "name": "python3"
  },
  "language_info": {
   "codemirror_mode": {
    "name": "ipython",
    "version": 3
   },
   "file_extension": ".py",
   "mimetype": "text/x-python",
   "name": "python",
   "nbconvert_exporter": "python",
   "pygments_lexer": "ipython3",
   "version": "3.10.12"
  }
 },
 "nbformat": 4,
 "nbformat_minor": 2
}
